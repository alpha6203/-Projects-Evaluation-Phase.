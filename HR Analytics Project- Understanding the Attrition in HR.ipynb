{
 "cells": [
  {
   "cell_type": "code",
   "execution_count": null,
   "id": "9362066c",
   "metadata": {},
   "outputs": [],
   "source": [
    "import pandas as pd # for data wrangling purpose\n",
    "import numpy as np # Basic computation library\n",
    "import seaborn as sns # For Visualization \n",
    "import matplotlib.pyplot as plt # ploting package\n",
    "%matplotlib inline\n",
    "import warnings # Filtering warnings\n",
    "warnings.filterwarnings('ignore')"
   ]
  },
  {
   "cell_type": "code",
   "execution_count": null,
   "id": "e917c5f6",
   "metadata": {},
   "outputs": [],
   "source": [
    "# Importing IBM HR dataset Csv file using pandas"
   ]
  },
  {
   "cell_type": "code",
   "execution_count": null,
   "id": "f6790b89",
   "metadata": {},
   "outputs": [],
   "source": [
    "df=pd.read_csv('WA_Fn-UseC_-HR-Employee-Attrition.csv')"
   ]
  },
  {
   "cell_type": "code",
   "execution_count": null,
   "id": "dece08e3",
   "metadata": {},
   "outputs": [],
   "source": [
    "print('No of Rows:',df.shape[0])\n",
    "print('No of Columns:',df.shape[1])\n",
    "pd.set_option('display.max_columns', None) # This will enable us to see truncated columns\n",
    "df.head()"
   ]
  },
  {
   "cell_type": "code",
   "execution_count": null,
   "id": "c1554969",
   "metadata": {},
   "outputs": [],
   "source": [
    "df.columns"
   ]
  },
  {
   "cell_type": "code",
   "execution_count": null,
   "id": "fa73171d",
   "metadata": {},
   "outputs": [],
   "source": [
    "# As we have 35 Columns Lets sort Columns by their datatype\n",
    "df.columns.to_series().groupby(df.dtypes).groups"
   ]
  },
  {
   "cell_type": "code",
   "execution_count": null,
   "id": "c63cf91d",
   "metadata": {},
   "outputs": [],
   "source": [
    "df.duplicated().sum()  # This will check the duplicate data for all columns."
   ]
  },
  {
   "cell_type": "code",
   "execution_count": null,
   "id": "283af948",
   "metadata": {},
   "outputs": [],
   "source": [
    "missing_values = df.isnull().sum().sort_values(ascending = False)\n",
    "percentage_missing_values =(missing_values/len(df))*100\n",
    "print(pd.concat([missing_values, percentage_missing_values], axis =1, keys =['Missing Values', '% Missing data']))"
   ]
  },
  {
   "cell_type": "code",
   "execution_count": null,
   "id": "a9645c83",
   "metadata": {},
   "outputs": [],
   "source": [
    "# Visualizing the statistics of the columns using heatmap.\n",
    "plt.figure(figsize=(28,10))\n",
    "sns.heatmap(df.describe(),linewidths = 0.1,fmt='0.1f',annot = True,cmap='PiYG')"
   ]
  },
  {
   "cell_type": "code",
   "execution_count": null,
   "id": "9c084b4d",
   "metadata": {},
   "outputs": [],
   "source": [
    "df.describe().T.round(3)"
   ]
  },
  {
   "cell_type": "code",
   "execution_count": null,
   "id": "e8d5f8ed",
   "metadata": {},
   "outputs": [],
   "source": [
    "df['Attrition'].value_counts()"
   ]
  },
  {
   "cell_type": "code",
   "execution_count": null,
   "id": "f0b649e8",
   "metadata": {},
   "outputs": [],
   "source": [
    "labels = 'Yes','No',\n",
    "fig, ax = plt.subplots()\n",
    "ax.pie(df['Attrition'].value_counts(),labels = labels,radius =2,autopct = '%2.2f%%',explode=[0.1,0.2], shadow=True,)\n",
    "plt.show()"
   ]
  },
  {
   "cell_type": "code",
   "execution_count": null,
   "id": "3339e88e",
   "metadata": {},
   "outputs": [],
   "source": [
    "Category=['Attrition', 'BusinessTravel', 'Department', 'EducationField',\n",
    "          'Gender', 'JobRole', 'MaritalStatus', 'Over18', 'OverTime' ]\n",
    "for i in Category:\n",
    "    print(i)\n",
    "    print(df[i].value_counts())\n",
    "    print(\"=\"*100)\n",
    "    "
   ]
  },
  {
   "cell_type": "code",
   "execution_count": null,
   "id": "bf504223",
   "metadata": {},
   "outputs": [],
   "source": [
    "sns.set_palette('gist_rainbow_r')\n",
    "plt.figure(figsize=(20,20), facecolor='white')\n",
    "plotnumber =1\n",
    "Category=['Attrition', 'BusinessTravel', 'Department', 'EducationField',\n",
    "          'Gender', 'JobRole', 'MaritalStatus', 'Over18', 'OverTime' ]\n",
    "for i in Category:\n",
    "    if plotnumber <=9:\n",
    "        ax = plt.subplot(3,3,plotnumber)\n",
    "        sns.countplot(df[i])\n",
    "        plt.xlabel(i,fontsize=20)\n",
    "        plt.xticks(rotation=30)\n",
    "    plotnumber+=1\n",
    "plt.tight_layout()\n",
    "plt.show()"
   ]
  },
  {
   "cell_type": "code",
   "execution_count": null,
   "id": "484ffc72",
   "metadata": {},
   "outputs": [],
   "source": [
    "Ordinal=['Education','EnvironmentSatisfaction', 'JobInvolvement','JobSatisfaction',\n",
    "          'RelationshipSatisfaction', 'PerformanceRating', 'WorkLifeBalance' ]\n",
    "for i in Ordinal:\n",
    "    print(i)\n",
    "    print(df[i].value_counts())\n",
    "    print(\"=\"*100)"
   ]
  },
  {
   "cell_type": "code",
   "execution_count": null,
   "id": "d1787308",
   "metadata": {},
   "outputs": [],
   "source": [
    "sns.set_palette('hsv')\n",
    "plt.figure(figsize=(20,20), facecolor='white')\n",
    "plotnumber =1\n",
    "Ordinal=['Education','EnvironmentSatisfaction', 'JobInvolvement','JobSatisfaction',\n",
    "          'RelationshipSatisfaction', 'PerformanceRating', 'WorkLifeBalance' ]\n",
    "for i in Ordinal:\n",
    "    if plotnumber <=9:\n",
    "        ax = plt.subplot(3,3,plotnumber)\n",
    "        sns.countplot(df[i])\n",
    "        plt.xlabel(i,fontsize=20)\n",
    "        plt.xticks(rotation=30)\n",
    "    plotnumber+=1\n",
    "plt.tight_layout()\n",
    "plt.show()"
   ]
  },
  {
   "cell_type": "code",
   "execution_count": null,
   "id": "f61171df",
   "metadata": {},
   "outputs": [],
   "source": [
    "labels='Bachelor','Master','College','Below College','Doctor'\n",
    "fig, ax = plt.subplots()\n",
    "ax.pie(df['Education'].value_counts(),labels = labels,radius =2,autopct = '%3.2f%%',explode=[0.1,0.1,0.15,0.2,0.3], shadow=True,)\n",
    "plt.show()"
   ]
  },
  {
   "cell_type": "code",
   "execution_count": null,
   "id": "984a6fc9",
   "metadata": {},
   "outputs": [],
   "source": [
    "df['Department'].value_counts()"
   ]
  },
  {
   "cell_type": "code",
   "execution_count": null,
   "id": "db97b4e2",
   "metadata": {},
   "outputs": [],
   "source": [
    "labels ='Research & Development','Sales','Human Resources'\n",
    "fig,ax= plt.subplots()\n",
    "ax.pie(df['Department'].value_counts(),labels=labels, radius=2,autopct= '%3.2f%%',explode=[0.1,0.15,0.2],shadow=True)\n",
    "plt.show()"
   ]
  },
  {
   "cell_type": "code",
   "execution_count": null,
   "id": "3a29f1f0",
   "metadata": {},
   "outputs": [],
   "source": [
    "pd.crosstab([df.Education],[df.Department], margins=True).style.background_gradient(cmap='summer_r')"
   ]
  },
  {
   "cell_type": "code",
   "execution_count": null,
   "id": "cb9f2113",
   "metadata": {},
   "outputs": [],
   "source": [
    "pd.crosstab([df.Education],[df.Department,df.Attrition], margins=True).style.background_gradient(cmap='summer_r')"
   ]
  },
  {
   "cell_type": "code",
   "execution_count": null,
   "id": "db9e2925",
   "metadata": {},
   "outputs": [],
   "source": [
    "df['EducationField'].value_counts()"
   ]
  },
  {
   "cell_type": "code",
   "execution_count": null,
   "id": "50b5b286",
   "metadata": {},
   "outputs": [],
   "source": [
    "labels ='Life Sciences','Medical','Marketing','Technical Degree','Other','Human Resources'\n",
    "fig,ax= plt.subplots()\n",
    "ax.pie(df['EducationField'].value_counts(),labels=labels, radius=2,autopct= '%3.2f%%',explode=[0.1,0.1,0.125,0.15,0.15,0.175],shadow=True)\n",
    "plt.show()"
   ]
  },
  {
   "cell_type": "code",
   "execution_count": null,
   "id": "bffe0ae1",
   "metadata": {},
   "outputs": [],
   "source": [
    "# Let check distribution of education Vs education Field\n",
    "pd.crosstab([df.Education],[df.EducationField], margins=True).style.background_gradient(cmap='summer_r')"
   ]
  }
 ],
 "metadata": {
  "kernelspec": {
   "display_name": "Python 3 (ipykernel)",
   "language": "python",
   "name": "python3"
  },
  "language_info": {
   "codemirror_mode": {
    "name": "ipython",
    "version": 3
   },
   "file_extension": ".py",
   "mimetype": "text/x-python",
   "name": "python",
   "nbconvert_exporter": "python",
   "pygments_lexer": "ipython3",
   "version": "3.11.5"
  }
 },
 "nbformat": 4,
 "nbformat_minor": 5
}
