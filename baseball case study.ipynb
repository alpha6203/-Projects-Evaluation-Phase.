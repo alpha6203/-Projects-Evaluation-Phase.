{
 "cells": [
  {
   "cell_type": "code",
   "execution_count": 1,
   "id": "396c8b17",
   "metadata": {},
   "outputs": [],
   "source": [
    "import pandas as pd # for data wrangling purpose\n",
    "import numpy as np # Basic computation library\n",
    "import seaborn as sns # For Visualization \n",
    "import matplotlib.pyplot as plt # ploting package\n",
    "%matplotlib inline\n",
    "import warnings # Filtering warnings\n",
    "warnings.filterwarnings('ignore')"
   ]
  },
  {
   "cell_type": "code",
   "execution_count": null,
   "id": "26254fa3",
   "metadata": {},
   "outputs": [],
   "source": [
    "df=pd.read_csv('baseball.csv')"
   ]
  },
  {
   "cell_type": "code",
   "execution_count": null,
   "id": "30b501d4",
   "metadata": {},
   "outputs": [],
   "source": [
    "print('No of Rows:',df.shape[0])\n",
    "print('No of Columns:',df.shape[1])\n",
    "df.head()"
   ]
  },
  {
   "cell_type": "code",
   "execution_count": null,
   "id": "28a933a7",
   "metadata": {},
   "outputs": [],
   "source": [
    "df.columns"
   ]
  },
  {
   "cell_type": "code",
   "execution_count": null,
   "id": "610bc6fa",
   "metadata": {},
   "outputs": [],
   "source": [
    "df.rename(columns={'W' : 'Wins', \n",
    "                   'R' : 'Runs Scored', \n",
    "                  'AB' : 'At Bat', \n",
    "                   'H' : 'Hits', \n",
    "                  '2B' : 'Doubles', \n",
    "                  '3B' : 'Triples',\n",
    "                  'HR' : 'Home Runs', \n",
    "                  'BB' : 'Base on Balls', \n",
    "                  'SO' : 'Strike Outs', \n",
    "                  'SB' : 'Stolen Base',\n",
    "                  'RA' : 'Runs Average', \n",
    "                  'ER' : 'Earned Runs', \n",
    "                 'ERA' : 'Earned Run Average', \n",
    "                  'CG' : 'Complete Game',\n",
    "                 'SHO' : 'Shut Outs', \n",
    "                  'SV' : 'Saves', \n",
    "                   'E' : 'Errors'}, \n",
    "          inplace=True)\n",
    "\n",
    "df.head()"
   ]
  },
  {
   "cell_type": "code",
   "execution_count": null,
   "id": "370c0017",
   "metadata": {},
   "outputs": [],
   "source": [
    "df.info()"
   ]
  },
  {
   "cell_type": "code",
   "execution_count": null,
   "id": "36e84046",
   "metadata": {},
   "outputs": [],
   "source": [
    "# Visualizing the statistics of the columns using heatmap.\n",
    "plt.figure(figsize=(20,8))\n",
    "sns.heatmap(df.describe(),linewidths = 0.1,fmt='0.1f',annot = True)"
   ]
  },
  {
   "cell_type": "code",
   "execution_count": null,
   "id": "8beeb2dd",
   "metadata": {},
   "outputs": [],
   "source": [
    "df.describe().T"
   ]
  },
  {
   "cell_type": "code",
   "execution_count": null,
   "id": "c7f27c08",
   "metadata": {},
   "outputs": [],
   "source": [
    "plt.figure(figsize=(8,7))\n",
    "sns.heatmap(df.isnull())"
   ]
  },
  {
   "cell_type": "code",
   "execution_count": null,
   "id": "079b465f",
   "metadata": {},
   "outputs": [],
   "source": [
    "missing_values = df.isnull().sum().sort_values(ascending = False)\n",
    "percentage_missing_values =(missing_values/len(df))*100\n",
    "print(pd.concat([missing_values, percentage_missing_values], axis =1, keys =['Missing Values', '% Missing data']))"
   ]
  },
  {
   "cell_type": "code",
   "execution_count": null,
   "id": "3f2d123e",
   "metadata": {},
   "outputs": [],
   "source": [
    "plt.figure(figsize=(20,25), facecolor='white')\n",
    "plotnumber =1\n",
    "for column in df:\n",
    "    if plotnumber <=17:\n",
    "        ax = plt.subplot(6,3,plotnumber)\n",
    "        sns.distplot(df[column], color='r',hist=False,kde_kws={\"shade\": True})\n",
    "        plt.xlabel(column,fontsize=20)\n",
    "    plotnumber+=1\n",
    "plt.show()"
   ]
  },
  {
   "cell_type": "code",
   "execution_count": null,
   "id": "eec3a4da",
   "metadata": {},
   "outputs": [],
   "source": [
    "sns.set_palette('gist_rainbow_r')\n",
    "plt.figure(figsize=(20,30), facecolor='white')\n",
    "plotnumber =1\n",
    "for column in df:\n",
    "    if plotnumber <=17:\n",
    "        ax = plt.subplot(6,3,plotnumber)\n",
    "        sns.violinplot(df[column])\n",
    "        plt.xlabel(column,fontsize=20)\n",
    "    plotnumber+=1\n",
    "plt.show()"
   ]
  },
  {
   "cell_type": "code",
   "execution_count": null,
   "id": "3a0df29d",
   "metadata": {},
   "outputs": [],
   "source": [
    "# Checking the relation between two variables\n",
    "sns.set_palette('Set1')\n",
    "plt.figure(figsize=[10,6])\n",
    "plt.title('Comparison between Runs and Hits',fontsize =20)\n",
    "sns.scatterplot(df['Runs Scored'],df['Hits'],hue=df['Wins'])\n",
    "plt.xlabel('Runs',fontsize =16)\n",
    "plt.ylabel(\"Hits\",fontsize =16)"
   ]
  },
  {
   "cell_type": "code",
   "execution_count": null,
   "id": "7ec41112",
   "metadata": {},
   "outputs": [],
   "source": [
    "# Checking the relation between two variables\n",
    "sns.set_palette('Set1')\n",
    "plt.figure(figsize=[10,6])\n",
    "plt.title('Runs Scored Vs Home Runs',fontsize =20)\n",
    "sns.scatterplot(df['Runs Scored'],df['Home Runs'],hue=df['Wins'])\n",
    "plt.xlabel('Runs Scored',fontsize =16)\n",
    "plt.ylabel('Home Runs',fontsize =16)"
   ]
  },
  {
   "cell_type": "code",
   "execution_count": null,
   "id": "6f4b7472",
   "metadata": {},
   "outputs": [],
   "source": [
    "# Checking the relation between two variables\n",
    "sns.set_palette('Set1')\n",
    "plt.figure(figsize=[10,6])\n",
    "plt.title('Comparison between Runs and At Bat', fontsize =20)\n",
    "sns.scatterplot(df['Runs Scored'],df['At Bat'],hue=df['Wins'])\n",
    "plt.xlabel('Runs Scored',fontsize =16)\n",
    "plt.ylabel(\"At Bat\",fontsize =16)"
   ]
  },
  {
   "cell_type": "code",
   "execution_count": null,
   "id": "7b8b63fc",
   "metadata": {},
   "outputs": [],
   "source": [
    "# Checking the relation between two variables\n",
    "sns.set_palette('Set1')\n",
    "plt.figure(figsize=[10,6])\n",
    "plt.title('Runs Scored Vs Strike Outs',fontsize =20)\n",
    "sns.scatterplot(df['Runs Scored'],df['Strike Outs'],hue=df['Wins'])\n",
    "plt.xlabel('Runs Scored',fontsize =16)\n",
    "plt.ylabel('Strike Outs',fontsize =16)"
   ]
  },
  {
   "cell_type": "code",
   "execution_count": null,
   "id": "fcd6ddbc",
   "metadata": {},
   "outputs": [],
   "source": [
    "# Checking the relation between two variables\n",
    "sns.set_palette('hsv')\n",
    "plt.figure(figsize=[10,6])\n",
    "plt.title('Errors Vs Earned Run Average',fontsize =20)\n",
    "sns.scatterplot(df['Errors'],df['Earned Run Average'],hue=df['Wins'], cmap=('Spectral'))\n",
    "plt.xlabel('Errors',fontsize =16)\n",
    "plt.ylabel('Earned Run Average',fontsize =16)"
   ]
  },
  {
   "cell_type": "code",
   "execution_count": null,
   "id": "f947c26a",
   "metadata": {},
   "outputs": [],
   "source": [
    "# Checking the relation between two variables\n",
    "sns.set_palette('hsv')\n",
    "plt.figure(figsize=[10,6])\n",
    "plt.title('At Bat Vs Base on Balls',fontsize =20)\n",
    "sns.scatterplot(df['At Bat'],df['Earned Run Average'],hue=df['Errors'], cmap=('Spectral'))\n",
    "plt.xlabel('At Bat',fontsize =16)\n",
    "plt.ylabel('Earned Run Average',fontsize =16)"
   ]
  },
  {
   "cell_type": "code",
   "execution_count": null,
   "id": "19b385ed",
   "metadata": {},
   "outputs": [],
   "source": [
    "plt.figure(figsize=(18,15), facecolor='white')\n",
    "plotnumber =1\n",
    "for column in df:\n",
    "    if plotnumber <=18:\n",
    "        ax = plt.subplot(6,3,plotnumber)\n",
    "        sns.boxplot(df[column], palette='hsv')\n",
    "        plt.xlabel(column,fontsize=20)\n",
    "    plotnumber+=1\n",
    "plt.tight_layout()\n",
    "plt.show()\n"
   ]
  },
  {
   "cell_type": "code",
   "execution_count": null,
   "id": "f336dbcc",
   "metadata": {},
   "outputs": [],
   "source": [
    "plt.figure(figsize=(18,12))\n",
    "sns.barplot(x=\"Wins\", y=\"Base on Balls\", data=df,palette='PiYG')\n",
    "plt.show()"
   ]
  },
  {
   "cell_type": "code",
   "execution_count": null,
   "id": "7263585e",
   "metadata": {},
   "outputs": [],
   "source": [
    "plt.figure(figsize=(18,12))\n",
    "sns.barplot(x=\"Wins\", y=\"Runs Scored\", data=df,palette='PiYG')\n",
    "plt.show()"
   ]
  },
  {
   "cell_type": "code",
   "execution_count": null,
   "id": "da820cc1",
   "metadata": {},
   "outputs": [],
   "source": [
    "plt.figure(figsize=(18,12))\n",
    "sns.barplot(x=\"Wins\", y=\"Runs Average\", data=df,palette='gist_earth')\n",
    "plt.title('Bar plot of Wins Vs Run Average', fontsize =20)\n",
    "plt.show()"
   ]
  },
  {
   "cell_type": "code",
   "execution_count": null,
   "id": "1f5c3643",
   "metadata": {},
   "outputs": [],
   "source": [
    "plt.figure(figsize=(18,12))\n",
    "sns.barplot(x=\"Wins\", y=\"Earned Run Average\", data=df,palette='spring')\n",
    "plt.xlabel('Wins',fontsize =16)\n",
    "plt.ylabel('Earned Run Average',fontsize =16)\n",
    "plt.show()"
   ]
  },
  {
   "cell_type": "code",
   "execution_count": 4,
   "id": "e5dde211",
   "metadata": {},
   "outputs": [
    {
     "ename": "NameError",
     "evalue": "name 'df' is not defined",
     "output_type": "error",
     "traceback": [
      "\u001b[1;31m---------------------------------------------------------------------------\u001b[0m",
      "\u001b[1;31mNameError\u001b[0m                                 Traceback (most recent call last)",
      "Cell \u001b[1;32mIn[4], line 5\u001b[0m\n\u001b[0;32m      3\u001b[0m plt\u001b[38;5;241m.\u001b[39mfigure(figsize\u001b[38;5;241m=\u001b[39m[\u001b[38;5;241m16\u001b[39m,\u001b[38;5;241m8\u001b[39m])\n\u001b[0;32m      4\u001b[0m plt\u001b[38;5;241m.\u001b[39mtitle(\u001b[38;5;124m'\u001b[39m\u001b[38;5;124mComparison between Run Average and Earned Run Average\u001b[39m\u001b[38;5;124m'\u001b[39m, fontsize \u001b[38;5;241m=\u001b[39m\u001b[38;5;241m20\u001b[39m)\n\u001b[1;32m----> 5\u001b[0m sns\u001b[38;5;241m.\u001b[39mstripplot(df[\u001b[38;5;124m'\u001b[39m\u001b[38;5;124mRuns Average\u001b[39m\u001b[38;5;124m'\u001b[39m],df[\u001b[38;5;124m'\u001b[39m\u001b[38;5;124mEarned Run Average\u001b[39m\u001b[38;5;124m'\u001b[39m],hue\u001b[38;5;241m=\u001b[39mdf[\u001b[38;5;124m'\u001b[39m\u001b[38;5;124mWins\u001b[39m\u001b[38;5;124m'\u001b[39m])\n\u001b[0;32m      6\u001b[0m plt\u001b[38;5;241m.\u001b[39mxlabel(\u001b[38;5;124m'\u001b[39m\u001b[38;5;124mRuns Average\u001b[39m\u001b[38;5;124m'\u001b[39m,fontsize \u001b[38;5;241m=\u001b[39m\u001b[38;5;241m16\u001b[39m)\n\u001b[0;32m      7\u001b[0m plt\u001b[38;5;241m.\u001b[39mylabel(\u001b[38;5;124m\"\u001b[39m\u001b[38;5;124mEarned Run Average\u001b[39m\u001b[38;5;124m\"\u001b[39m,fontsize \u001b[38;5;241m=\u001b[39m\u001b[38;5;241m16\u001b[39m)\n",
      "\u001b[1;31mNameError\u001b[0m: name 'df' is not defined"
     ]
    },
    {
     "data": {
      "image/png": "[encoded data removed]",
      "text/plain": [
       "<Figure size 1600x800 with 1 Axes>"
      ]
     },
     "metadata": {},
     "output_type": "display_data"
    }
   ],
   "source": [
    "# Checking the relation between two variables\n",
    "sns.set_palette('Set1')\n",
    "plt.figure(figsize=[16,8])\n",
    "plt.title('Comparison between Run Average and Earned Run Average', fontsize =20)\n",
    "sns.stripplot(df['Runs Average'],df['Earned Run Average'],hue=df['Wins'])\n",
    "plt.xlabel('Runs Average',fontsize =16)\n",
    "plt.ylabel(\"Earned Run Average\",fontsize =16)"
   ]
  }
 ],
 "metadata": {
  "kernelspec": {
   "display_name": "Python 3 (ipykernel)",
   "language": "python",
   "name": "python3"
  },
  "language_info": {
   "codemirror_mode": {
    "name": "ipython",
    "version": 3
   },
   "file_extension": ".py",
   "mimetype": "text/x-python",
   "name": "python",
   "nbconvert_exporter": "python",
   "pygments_lexer": "ipython3",
   "version": "3.11.5"
  }
 },
 "nbformat": 4,
 "nbformat_minor": 5
}
