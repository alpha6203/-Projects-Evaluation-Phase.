{
 "cells": [
  {
   "cell_type": "code",
   "execution_count": null,
   "id": "8320dfe3",
   "metadata": {},
   "outputs": [],
   "source": [
    "import pandas as pd # for data wrangling purpose\n",
    "import numpy as np # Basic computation library\n",
    "import seaborn as sns # For Visualization \n",
    "import matplotlib.pyplot as plt # ploting package\n",
    "%matplotlib inline\n",
    "import warnings # Filtering warnings\n",
    "warnings.filterwarnings('ignore')"
   ]
  },
  {
   "cell_type": "code",
   "execution_count": null,
   "id": "463572d8",
   "metadata": {},
   "outputs": [],
   "source": [
    "# Importing Avocado Csv file using pandas"
   ]
  },
  {
   "cell_type": "code",
   "execution_count": null,
   "id": "8cda8505",
   "metadata": {},
   "outputs": [],
   "source": [
    "df=pd.read_csv('avocado.csv')"
   ]
  },
  {
   "cell_type": "code",
   "execution_count": null,
   "id": "0761325c",
   "metadata": {},
   "outputs": [],
   "source": [
    "print('No of Rows:',df.shape[0])\n",
    "print('No of Columns:',df.shape[1])\n",
    "df.head()"
   ]
  },
  {
   "cell_type": "code",
   "execution_count": 2,
   "id": "8918cc8c",
   "metadata": {},
   "outputs": [
    {
     "ename": "NameError",
     "evalue": "name 'df' is not defined",
     "output_type": "error",
     "traceback": [
      "\u001b[1;31m---------------------------------------------------------------------------\u001b[0m",
      "\u001b[1;31mNameError\u001b[0m                                 Traceback (most recent call last)",
      "Cell \u001b[1;32mIn[2], line 1\u001b[0m\n\u001b[1;32m----> 1\u001b[0m df\u001b[38;5;241m.\u001b[39mcolumns\n",
      "\u001b[1;31mNameError\u001b[0m: name 'df' is not defined"
     ]
    }
   ],
   "source": [
    "df.columns"
   ]
  },
  {
   "cell_type": "code",
   "execution_count": null,
   "id": "1e678d8f",
   "metadata": {},
   "outputs": [],
   "source": [
    "df.duplicated().sum()  # This will check the duplicate data for all columns."
   ]
  },
  {
   "cell_type": "code",
   "execution_count": null,
   "id": "90317739",
   "metadata": {},
   "outputs": [],
   "source": [
    "plt.figure(figsize=(10,6))\n",
    "sns.heatmap(df.isnull())"
   ]
  },
  {
   "cell_type": "code",
   "execution_count": null,
   "id": "535b69da",
   "metadata": {},
   "outputs": [],
   "source": [
    "missing_values = df.isnull().sum().sort_values(ascending = False)\n",
    "percentage_missing_values =(missing_values/len(df))*100\n",
    "print(pd.concat([missing_values, percentage_missing_values], axis =1, keys =['Missing Values', '% Missing data']))"
   ]
  },
  {
   "cell_type": "code",
   "execution_count": null,
   "id": "a7fc8d20",
   "metadata": {},
   "outputs": [],
   "source": [
    "df.info()"
   ]
  },
  {
   "cell_type": "code",
   "execution_count": null,
   "id": "78886aa7",
   "metadata": {},
   "outputs": [],
   "source": [
    "# Converting datatype of date column\n",
    "df['Date']=pd.to_datetime(df.Date)"
   ]
  },
  {
   "cell_type": "code",
   "execution_count": null,
   "id": "b19f13e3",
   "metadata": {},
   "outputs": [],
   "source": [
    "df['Date'].dtype"
   ]
  },
  {
   "cell_type": "code",
   "execution_count": null,
   "id": "941deb88",
   "metadata": {},
   "outputs": [],
   "source": [
    "# Visualizing the statistics of the columns using heatmap.\n",
    "plt.figure(figsize=(20,8))\n",
    "sns.heatmap(df.describe(),linewidths = 0.1,fmt='0.1f',annot = True,cmap='PiYG')"
   ]
  },
  {
   "cell_type": "code",
   "execution_count": null,
   "id": "eca36e2e",
   "metadata": {},
   "outputs": [],
   "source": [
    "df.describe().T.round(3)"
   ]
  },
  {
   "cell_type": "code",
   "execution_count": null,
   "id": "192bc3a1",
   "metadata": {},
   "outputs": [],
   "source": [
    "print(\"\\033[1m\"+'Minimum Price of Avocado :'+\"\\033[0m\",df.AveragePrice.min(),'USD')\n",
    "print(\"\\033[1m\"+'Maximum Price of avacado :'+\"\\033[0m\",df.AveragePrice.max(),'USD')\n",
    "print(\"\\033[1m\"+'Average Price of avacado :'+\"\\033[0m\",df.AveragePrice.mean(),'USD')"
   ]
  },
  {
   "cell_type": "code",
   "execution_count": null,
   "id": "b8a2b8ef",
   "metadata": {},
   "outputs": [],
   "source": [
    "plt.figure(figsize=(12,7))\n",
    "plt.title('Distribution Price')\n",
    "sns.distplot(df[\"AveragePrice\"], color='b')"
   ]
  },
  {
   "cell_type": "code",
   "execution_count": null,
   "id": "67f125f7",
   "metadata": {},
   "outputs": [],
   "source": [
    "df['type'].value_counts()"
   ]
  },
  {
   "cell_type": "code",
   "execution_count": null,
   "id": "4173f7d7",
   "metadata": {},
   "outputs": [],
   "source": [
    "df.groupby('type')['AveragePrice'].mean()"
   ]
  },
  {
   "cell_type": "code",
   "execution_count": null,
   "id": "35dd3e61",
   "metadata": {},
   "outputs": [],
   "source": [
    "print(\"\\033[1m\"+'Percentage difference in price of avacado :'+\"\\033[0m\",((1.65399-1.1580)/1.1580)*100,\"%\")"
   ]
  },
  {
   "cell_type": "code",
   "execution_count": null,
   "id": "288eaf05",
   "metadata": {},
   "outputs": [],
   "source": [
    "plt.figure(figsize=(8,6))\n",
    "sns.boxplot(y=\"type\", x=\"AveragePrice\", data=df, palette = 'hsv')"
   ]
  },
  {
   "cell_type": "code",
   "execution_count": null,
   "id": "3d1847d0",
   "metadata": {},
   "outputs": [],
   "source": [
    "labels = 'Conventional','Organic',\n",
    "fig, ax = plt.subplots()\n",
    "ax.pie(df.groupby('type')['Total Volume'].mean(),labels = labels,radius =2,autopct = '%2.2f%%',explode=[0.3,0.2], shadow=True,)\n",
    "plt.show()"
   ]
  },
  {
   "cell_type": "code",
   "execution_count": null,
   "id": "b733160a",
   "metadata": {},
   "outputs": [],
   "source": [
    "df.groupby('type')['Total Volume'].mean()"
   ]
  },
  {
   "cell_type": "code",
   "execution_count": null,
   "id": "d1f3070d",
   "metadata": {},
   "outputs": [],
   "source": [
    "plt.figure(figsize=(10,6))\n",
    "sns.barplot(x='year', y='Total Volume', hue='type',data=df, palette='coolwarm',ci=68)\n",
    "plt.show()"
   ]
  },
  {
   "cell_type": "code",
   "execution_count": null,
   "id": "ae221ecb",
   "metadata": {},
   "outputs": [],
   "source": [
    "pd.crosstab([df.type,df.year],df.AveragePrice, margins= True).style.background_gradient(cmap='summer_r')"
   ]
  },
  {
   "cell_type": "code",
   "execution_count": null,
   "id": "6ed7a557",
   "metadata": {},
   "outputs": [],
   "source": [
    "df.groupby(['year','type'])['AveragePrice'].agg([min,max,np.mean,np.median])"
   ]
  },
  {
   "cell_type": "code",
   "execution_count": null,
   "id": "c59cf310",
   "metadata": {},
   "outputs": [],
   "source": [
    "df.groupby(['year','type'])['Total Volume','Total Bags','Small Bags','Large Bags','XLarge Bags'].agg([sum])"
   ]
  },
  {
   "cell_type": "code",
   "execution_count": null,
   "id": "c5aec1cb",
   "metadata": {},
   "outputs": [],
   "source": [
    "df.sort_values(by=['Date'], inplace=True, ascending=True)"
   ]
  },
  {
   "cell_type": "code",
   "execution_count": null,
   "id": "8bae1157",
   "metadata": {},
   "outputs": [],
   "source": [
    "# Average price of Conventional Avocados over time\n",
    "\n",
    "mask = df['type']== 'conventional'\n",
    "plt.rc('figure', titlesize=20)\n",
    "fig = plt.figure(figsize = (27, 12))\n",
    "fig.suptitle('Average Price of Conventional Avocados Over Time', fontsize=25)\n",
    "ax = fig.add_subplot(111)\n",
    "\n",
    "dates = df[mask]['Date'].tolist()\n",
    "avgPrices = df[mask]['AveragePrice'].tolist()\n",
    "\n",
    "plt.scatter( dates,avgPrices, c=avgPrices, cmap='plasma')\n",
    "ax.set_xlabel('Date',fontsize = 15,)\n",
    "ax.set_ylabel('Average Price (USD)', fontsize = 15)\n",
    "ax.set_xlim()\n",
    "ax.tick_params(labelrotation=90)\n",
    "\n",
    "plt.show()"
   ]
  },
  {
   "cell_type": "code",
   "execution_count": null,
   "id": "b153fdc0",
   "metadata": {},
   "outputs": [],
   "source": [
    "# Average price of Organic Avocados over time\n",
    "mask = df['type']== 'organic'\n",
    "plt.rc('figure', titlesize=20)\n",
    "fig = plt.figure(figsize = (27, 12))\n",
    "fig.suptitle('Average Price of Organic Avocados Over Time', fontsize=25)\n",
    "ax = fig.add_subplot(111)\n",
    "fig.subplots_adjust(top=0.93)\n",
    "\n",
    "dates = df[mask]['Date'].tolist()\n",
    "avgPrices = df[mask]['AveragePrice'].tolist()\n",
    "\n",
    "plt.scatter(dates,avgPrices, c=avgPrices, cmap='plasma')\n",
    "ax.set_xlabel('Date',fontsize = 15)\n",
    "ax.set_ylabel('Average Price (USD)', fontsize = 15)\n",
    "plt.xlim()\n",
    "plt.show()\n"
   ]
  },
  {
   "cell_type": "code",
   "execution_count": null,
   "id": "b115b3f4",
   "metadata": {},
   "outputs": [],
   "source": [
    "df.groupby(['region'])['Total Volume','AveragePrice'].agg([sum])"
   ]
  },
  {
   "cell_type": "code",
   "execution_count": null,
   "id": "5ca1f95b",
   "metadata": {},
   "outputs": [],
   "source": [
    "df.head()"
   ]
  },
  {
   "cell_type": "code",
   "execution_count": null,
   "id": "7f285722",
   "metadata": {},
   "outputs": [],
   "source": [
    "df2=df.copy()"
   ]
  },
  {
   "cell_type": "code",
   "execution_count": null,
   "id": "6c7c8de5",
   "metadata": {},
   "outputs": [],
   "source": [
    "# Creating Datframe for numeric features\n",
    "df2.drop(['Date','type','region','year'], axis=1, inplace=True)"
   ]
  },
  {
   "cell_type": "code",
   "execution_count": null,
   "id": "4336723b",
   "metadata": {},
   "outputs": [],
   "source": [
    "plt.figure(figsize=(20,25), facecolor='white')\n",
    "plotnumber =1\n",
    "for column in df2:\n",
    "    if plotnumber <=9:\n",
    "        ax = plt.subplot(3,3,plotnumber)\n",
    "        sns.distplot(df2[column], color='r',hist=False,kde_kws={\"shade\": True})\n",
    "        plt.xlabel(column,fontsize=20)\n",
    "    plotnumber+=1\n",
    "plt.show()"
   ]
  },
  {
   "cell_type": "code",
   "execution_count": null,
   "id": "c0d5dcc3",
   "metadata": {},
   "outputs": [],
   "source": [
    "sns.set_palette('gist_rainbow_r')\n",
    "plt.figure(figsize=(20,20), facecolor='white')\n",
    "plotnumber =1\n",
    "for column in df2:\n",
    "    if plotnumber <=9:\n",
    "        ax = plt.subplot(3,3,plotnumber)\n",
    "        sns.violinplot(df[column])\n",
    "        plt.xlabel(column,fontsize=20)\n",
    "    plotnumber+=1\n",
    "plt.show()"
   ]
  },
  {
   "cell_type": "code",
   "execution_count": null,
   "id": "a6d2fde4",
   "metadata": {},
   "outputs": [],
   "source": [
    "df=pd.read_csv('avocado.csv')"
   ]
  },
  {
   "cell_type": "code",
   "execution_count": null,
   "id": "9dfb00eb",
   "metadata": {},
   "outputs": [],
   "source": [
    "# Copy of original dataframe\n",
    "df3=df.copy()"
   ]
  },
  {
   "cell_type": "code",
   "execution_count": null,
   "id": "62550acc",
   "metadata": {},
   "outputs": [],
   "source": [
    "df3['Year'], df3['Month'], df3['Day'] = df3['Date'].str.split('-').str\n",
    "df3.drop(columns=['Date','year'], inplace=True)\n",
    "df3"
   ]
  },
  {
   "cell_type": "code",
   "execution_count": null,
   "id": "578f21b7",
   "metadata": {},
   "outputs": [],
   "source": [
    "# Converting Datetime datatypes to int\n",
    "df3['Year']=df3['Year'].astype(int)\n",
    "df3['Month']=df3['Month'].astype(int)\n",
    "df3['Date']=df3['Day'].astype(int)"
   ]
  },
  {
   "cell_type": "code",
   "execution_count": null,
   "id": "c0cd9150",
   "metadata": {},
   "outputs": [],
   "source": [
    "df3.drop(columns=['Day'],axis=1, inplace=True)"
   ]
  },
  {
   "cell_type": "code",
   "execution_count": null,
   "id": "a85ae798",
   "metadata": {},
   "outputs": [],
   "source": [
    "df3.drop(columns=['Day'],axis=1, inplace=True)"
   ]
  },
  {
   "cell_type": "code",
   "execution_count": null,
   "id": "9195e86e",
   "metadata": {},
   "outputs": [],
   "source": [
    "df3.head()"
   ]
  },
  {
   "cell_type": "code",
   "execution_count": null,
   "id": "2cc86a18",
   "metadata": {},
   "outputs": [],
   "source": [
    "# Checking unique values and Yearwise total No of sale entry\n",
    "df3['Year'].value_counts()"
   ]
  },
  {
   "cell_type": "code",
   "execution_count": null,
   "id": "11169646",
   "metadata": {},
   "outputs": [],
   "source": [
    "sns.countplot('Year',data=df3)"
   ]
  },
  {
   "cell_type": "code",
   "execution_count": null,
   "id": "3d0f4d4f",
   "metadata": {},
   "outputs": [],
   "source": [
    "plt.figure(figsize=(15,7))\n",
    "sns.countplot(x='Month', data=df3, palette=\"spring\")"
   ]
  },
  {
   "cell_type": "code",
   "execution_count": null,
   "id": "a2c4e6cd",
   "metadata": {},
   "outputs": [],
   "source": [
    "df3['Month'].value_counts().max()"
   ]
  },
  {
   "cell_type": "code",
   "execution_count": null,
   "id": "dd9afb3c",
   "metadata": {},
   "outputs": [],
   "source": [
    "df3['Month'].value_counts().min()"
   ]
  }
 ],
 "metadata": {
  "kernelspec": {
   "display_name": "Python 3 (ipykernel)",
   "language": "python",
   "name": "python3"
  },
  "language_info": {
   "codemirror_mode": {
    "name": "ipython",
    "version": 3
   },
   "file_extension": ".py",
   "mimetype": "text/x-python",
   "name": "python",
   "nbconvert_exporter": "python",
   "pygments_lexer": "ipython3",
   "version": "3.11.5"
  }
 },
 "nbformat": 4,
 "nbformat_minor": 5
}
